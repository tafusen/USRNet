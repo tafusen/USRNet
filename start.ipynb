{
  "cells": [
    {
      "cell_type": "markdown",
      "metadata": {
        "id": "view-in-github",
        "colab_type": "text"
      },
      "source": [
        "<a href=\"https://colab.research.google.com/github/tafusen/USRNet/blob/master/start.ipynb\" target=\"_parent\"><img src=\"https://colab.research.google.com/assets/colab-badge.svg\" alt=\"Open In Colab\"/></a>"
      ]
    },
    {
      "cell_type": "code",
      "execution_count": null,
      "metadata": {
        "id": "HIpqHD6qPXyq",
        "colab": {
          "base_uri": "https://localhost:8080/"
        },
        "outputId": "0268a1fd-d86a-407c-f0ed-83667007d9ef"
      },
      "outputs": [
        {
          "output_type": "stream",
          "name": "stdout",
          "text": [
            "Mounted at /content/drive\n"
          ]
        }
      ],
      "source": [
        "#@title\n",
        "from google.colab import drive\n",
        "drive.mount('/content/drive')"
      ]
    },
    {
      "cell_type": "code",
      "execution_count": null,
      "metadata": {
        "id": "pqZsInEzor2-",
        "colab": {
          "base_uri": "https://localhost:8080/"
        },
        "outputId": "c31eaae0-f446-493e-cad6-8c3ceb9063d3"
      },
      "outputs": [
        {
          "output_type": "stream",
          "name": "stdout",
          "text": [
            "/content/drive/MyDrive/Colab Notebooks/USRNet-master\n"
          ]
        }
      ],
      "source": [
        "%cd \"/content/drive/MyDrive/Colab Notebooks/USRNet-master\""
      ]
    },
    {
      "cell_type": "code",
      "execution_count": null,
      "metadata": {
        "colab": {
          "base_uri": "https://localhost:8080/"
        },
        "id": "8wRkYydJ-o3j",
        "outputId": "216e8b4a-215b-4b04-ebec-e095ccce9911"
      },
      "outputs": [
        {
          "output_type": "stream",
          "name": "stdout",
          "text": [
            "Looking in indexes: https://pypi.org/simple, https://us-python.pkg.dev/colab-wheels/public/simple/\n",
            "Collecting torch==1.7.1\n",
            "  Downloading torch-1.7.1-cp37-cp37m-manylinux1_x86_64.whl (776.8 MB)\n",
            "\u001b[K     |████████████████████████████████| 776.8 MB 18 kB/s \n",
            "\u001b[?25hCollecting torchvision==0.8.2\n",
            "  Downloading torchvision-0.8.2-cp37-cp37m-manylinux1_x86_64.whl (12.8 MB)\n",
            "\u001b[K     |████████████████████████████████| 12.8 MB 49.4 MB/s \n",
            "\u001b[?25hRequirement already satisfied: typing-extensions in /usr/local/lib/python3.7/dist-packages (from torch==1.7.1) (4.1.1)\n",
            "Requirement already satisfied: numpy in /usr/local/lib/python3.7/dist-packages (from torch==1.7.1) (1.21.6)\n",
            "Requirement already satisfied: pillow>=4.1.1 in /usr/local/lib/python3.7/dist-packages (from torchvision==0.8.2) (7.1.2)\n",
            "Installing collected packages: torch, torchvision\n",
            "  Attempting uninstall: torch\n",
            "    Found existing installation: torch 1.12.0+cu113\n",
            "    Uninstalling torch-1.12.0+cu113:\n",
            "      Successfully uninstalled torch-1.12.0+cu113\n",
            "  Attempting uninstall: torchvision\n",
            "    Found existing installation: torchvision 0.13.0+cu113\n",
            "    Uninstalling torchvision-0.13.0+cu113:\n",
            "      Successfully uninstalled torchvision-0.13.0+cu113\n",
            "\u001b[31mERROR: pip's dependency resolver does not currently take into account all the packages that are installed. This behaviour is the source of the following dependency conflicts.\n",
            "torchtext 0.13.0 requires torch==1.12.0, but you have torch 1.7.1 which is incompatible.\n",
            "torchaudio 0.12.0+cu113 requires torch==1.12.0, but you have torch 1.7.1 which is incompatible.\u001b[0m\n",
            "Successfully installed torch-1.7.1 torchvision-0.8.2\n"
          ]
        }
      ],
      "source": [
        "!pip3 install torch==1.7.1 torchvision==0.8.2 "
      ]
    },
    {
      "cell_type": "code",
      "execution_count": null,
      "metadata": {
        "colab": {
          "base_uri": "https://localhost:8080/"
        },
        "id": "LtRiWFr7rbfW",
        "outputId": "3f904131-811e-4cb9-8161-536f3d4e8bd6"
      },
      "outputs": [
        {
          "output_type": "stream",
          "name": "stdout",
          "text": [
            "Looking in indexes: https://pypi.org/simple, https://us-python.pkg.dev/colab-wheels/public/simple/\n",
            "Collecting PIQ\n",
            "  Downloading piq-0.7.0-py3-none-any.whl (139 kB)\n",
            "\u001b[K     |████████████████████████████████| 139 kB 5.1 MB/s \n",
            "\u001b[?25hRequirement already satisfied: torchvision!=0.9.*,>=0.6.1 in /usr/local/lib/python3.7/dist-packages (from PIQ) (0.8.2)\n",
            "Requirement already satisfied: torch==1.7.1 in /usr/local/lib/python3.7/dist-packages (from torchvision!=0.9.*,>=0.6.1->PIQ) (1.7.1)\n",
            "Requirement already satisfied: numpy in /usr/local/lib/python3.7/dist-packages (from torchvision!=0.9.*,>=0.6.1->PIQ) (1.21.6)\n",
            "Requirement already satisfied: pillow>=4.1.1 in /usr/local/lib/python3.7/dist-packages (from torchvision!=0.9.*,>=0.6.1->PIQ) (7.1.2)\n",
            "Requirement already satisfied: typing-extensions in /usr/local/lib/python3.7/dist-packages (from torch==1.7.1->torchvision!=0.9.*,>=0.6.1->PIQ) (4.1.1)\n",
            "Installing collected packages: PIQ\n",
            "Successfully installed PIQ-0.7.0\n"
          ]
        }
      ],
      "source": [
        "!pip3 install PIQ"
      ]
    },
    {
      "cell_type": "code",
      "execution_count": null,
      "metadata": {
        "colab": {
          "base_uri": "https://localhost:8080/"
        },
        "id": "KrM-NhWjqKxz",
        "outputId": "614c29dc-4550-416d-eddd-4564f263a458"
      },
      "outputs": [
        {
          "output_type": "stream",
          "name": "stdout",
          "text": [
            "LogHandlers setup!\n",
            "22-08-12 14:24:04.404 : Params number: 17016016\n",
            "22-08-12 14:24:07.636 : Model path: model_zoo/usrnet.pth\n",
            "22-08-12 14:24:07.636 : model_name:usrnet, image sigma:0\n",
            "22-08-12 14:24:07.636 : testsets/set5\n",
            "22-08-12 14:24:07.639 : ---1--> 101087.jpg\n",
            "/content/drive/MyDrive/Colab Notebooks/USRNet-master/models/network_usrnet.py:149: UserWarning: The function torch.rfft is deprecated and will be removed in a future PyTorch release. Use the new torch.fft module functions, instead, by importing torch.fft and calling torch.fft.fft or torch.fft.rfft. (Triggered internally at  /pytorch/aten/src/ATen/native/SpectralOps.cpp:590.)\n",
            "  otf = torch.rfft(otf, 2, onesided=False)\n",
            "/content/drive/MyDrive/Colab Notebooks/USRNet-master/models/network_usrnet.py:274: UserWarning: The function torch.irfft is deprecated and will be removed in a future PyTorch release. Use the new torch.fft module functions, instead, by importing torch.fft and calling torch.fft.ifft or torch.fft.irfft. (Triggered internally at  /pytorch/aten/src/ATen/native/SpectralOps.cpp:602.)\n",
            "  Xest = torch.irfft(FX, 2, onesided=False)\n",
            "22-08-12 14:24:09.115 : 101087.jpg - PSNR: 27.54 dB; SSIM: 0.7990.\n",
            "22-08-12 14:24:09.167 : ---2--> 134035.jpg\n",
            "22-08-12 14:24:10.212 : 134035.jpg - PSNR: 23.69 dB; SSIM: 0.7560.\n",
            "22-08-12 14:24:10.263 : ---3--> 197017.jpg\n",
            "22-08-12 14:24:11.151 : 197017.jpg - PSNR: 27.01 dB; SSIM: 0.6974.\n",
            "22-08-12 14:24:11.199 : ---4--> 219090.jpg\n",
            "22-08-12 14:24:12.170 : 219090.jpg - PSNR: 25.57 dB; SSIM: 0.7336.\n",
            "22-08-12 14:24:12.219 : ---5--> 223061.jpg\n",
            "22-08-12 14:24:13.348 : 223061.jpg - PSNR: 23.78 dB; SSIM: 0.6897.\n",
            "22-08-12 14:24:13.401 : ---6--> 304074.jpg\n",
            "22-08-12 14:24:14.414 : 304074.jpg - PSNR: 24.75 dB; SSIM: 0.5918.\n",
            "22-08-12 14:24:14.464 : ---7-->  lenna.png\n",
            "22-08-12 14:24:16.443 : lenna.png - PSNR: 31.01 dB; SSIM: 0.8238.\n",
            "22-08-12 14:24:16.696 : ---8--> test_09_x1_k12_usrnet.png\n",
            "22-08-12 14:24:17.421 : test_09_x1_k12_usrnet.png - PSNR: 26.12 dB; SSIM: 0.7790.\n",
            "22-08-12 14:24:17.465 : Average PSNR/SSIM(RGB) - set5_usrnet_bicubic - x4 --PSNR: 26.18 dB; SSIM: 0.7338\n",
            "22-08-12 14:24:17.466 : Average PSNR/SSIM( Y ) - set5_usrnet_bicubic - x4 - PSNR: 27.61 dB; SSIM: 0.7607\n"
          ]
        }
      ],
      "source": [
        "!python main_test_bicubic.py "
      ]
    },
    {
      "cell_type": "code",
      "execution_count": null,
      "metadata": {
        "id": "sLS7BQp3tReL"
      },
      "outputs": [],
      "source": [
        "import torch\n",
        "torch.cuda.empty_cache()"
      ]
    },
    {
      "cell_type": "code",
      "execution_count": null,
      "metadata": {
        "colab": {
          "base_uri": "https://localhost:8080/"
        },
        "id": "Lc_60GPmqjU1",
        "outputId": "cf308f56-d836-45df-ec03-a5c721ca4cea"
      },
      "outputs": [
        {
          "output_type": "stream",
          "name": "stdout",
          "text": [
            "LogHandlers setup!\n",
            "22-08-12 14:24:20.367 : Params number: 17016016\n",
            "22-08-12 14:24:23.582 : Model path: model_zoo/usrnet.pth\n",
            "22-08-12 14:24:23.582 : model_name:usrnet, image sigma:2\n",
            "22-08-12 14:24:23.582 : testsets/set_real\n",
            "22-08-12 14:24:23.752 :  sise.jpeg--> ( 302x207 )\n",
            "/content/drive/MyDrive/Colab Notebooks/USRNet-master/models/network_usrnet.py:149: UserWarning: The function torch.rfft is deprecated and will be removed in a future PyTorch release. Use the new torch.fft module functions, instead, by importing torch.fft and calling torch.fft.fft or torch.fft.rfft. (Triggered internally at  /pytorch/aten/src/ATen/native/SpectralOps.cpp:590.)\n",
            "  otf = torch.rfft(otf, 2, onesided=False)\n",
            "/content/drive/MyDrive/Colab Notebooks/USRNet-master/models/network_usrnet.py:274: UserWarning: The function torch.irfft is deprecated and will be removed in a future PyTorch release. Use the new torch.fft module functions, instead, by importing torch.fft and calling torch.fft.ifft or torch.fft.irfft. (Triggered internally at  /pytorch/aten/src/ATen/native/SpectralOps.cpp:602.)\n",
            "  Xest = torch.irfft(FX, 2, onesided=False)\n"
          ]
        }
      ],
      "source": [
        "!python main_test_realapplication.py "
      ]
    },
    {
      "cell_type": "code",
      "execution_count": null,
      "metadata": {
        "colab": {
          "base_uri": "https://localhost:8080/"
        },
        "id": "9KxQVKkG-L5B",
        "outputId": "f281f8dc-9853-4790-c30a-b8bcfafda43d"
      },
      "outputs": [
        {
          "output_type": "stream",
          "name": "stdout",
          "text": [
            "LogHandlers setup!\n",
            "22-08-12 14:24:36.474 : Model path: model_zoo/usrnet.pth\n",
            "22-08-12 14:24:36.709 : Params number: 17016016\n",
            "22-08-12 14:24:36.710 : Model_name:usrnet, image sigma:0\n",
            "22-08-12 14:24:36.710 : testsets/set5\n",
            "/content/drive/MyDrive/Colab Notebooks/USRNet-master/models/network_usrnet.py:149: UserWarning: The function torch.rfft is deprecated and will be removed in a future PyTorch release. Use the new torch.fft module functions, instead, by importing torch.fft and calling torch.fft.fft or torch.fft.rfft. (Triggered internally at  /pytorch/aten/src/ATen/native/SpectralOps.cpp:590.)\n",
            "  otf = torch.rfft(otf, 2, onesided=False)\n",
            "/content/drive/MyDrive/Colab Notebooks/USRNet-master/models/network_usrnet.py:274: UserWarning: The function torch.irfft is deprecated and will be removed in a future PyTorch release. Use the new torch.fft module functions, instead, by importing torch.fft and calling torch.fft.ifft or torch.fft.irfft. (Triggered internally at  /pytorch/aten/src/ATen/native/SpectralOps.cpp:602.)\n",
            "  Xest = torch.irfft(FX, 2, onesided=False)\n",
            "22-08-12 14:24:37.412 : ---1--> 101087.jpg -- x 2 --k 0 PSNR: 31.34dB\n",
            "22-08-12 14:24:38.019 : ---2--> 134035.jpg -- x 2 --k 0 PSNR: 30.56dB\n",
            "22-08-12 14:24:38.626 : ---3--> 197017.jpg -- x 2 --k 0 PSNR: 29.86dB\n",
            "22-08-12 14:24:39.230 : ---4--> 219090.jpg -- x 2 --k 0 PSNR: 29.31dB\n",
            "22-08-12 14:24:39.867 : ---5--> 223061.jpg -- x 2 --k 0 PSNR: 28.33dB\n",
            "22-08-12 14:24:40.474 : ---6--> 304074.jpg -- x 2 --k 0 PSNR: 28.23dB\n",
            "22-08-12 14:24:41.982 : ---7-->  lenna.png -- x 2 --k 0 PSNR: 35.05dB\n",
            "22-08-12 14:24:42.532 : ---8--> test_09_x1_k12_usrnet.png -- x 2 --k 0 PSNR: 30.63dB\n",
            "22-08-12 14:24:42.532 : ------> Average PSNR(RGB) of (set5) scale factor: (2), kernel: (1) sigma: (0): 30.41 dB\n",
            "22-08-12 14:24:43.260 : ---1--> 101087.jpg -- x 2 --k 1 PSNR: 31.64dB\n",
            "22-08-12 14:24:43.988 : ---2--> 134035.jpg -- x 2 --k 1 PSNR: 31.18dB\n",
            "22-08-12 14:24:44.726 : ---3--> 197017.jpg -- x 2 --k 1 PSNR: 30.16dB\n",
            "22-08-12 14:24:45.456 : ---4--> 219090.jpg -- x 2 --k 1 PSNR: 29.98dB\n",
            "22-08-12 14:24:46.215 : ---5--> 223061.jpg -- x 2 --k 1 PSNR: 28.13dB\n",
            "22-08-12 14:24:46.961 : ---6--> 304074.jpg -- x 2 --k 1 PSNR: 28.55dB\n",
            "22-08-12 14:24:48.533 : ---7-->  lenna.png -- x 2 --k 1 PSNR: 35.13dB\n",
            "22-08-12 14:24:49.192 : ---8--> test_09_x1_k12_usrnet.png -- x 2 --k 1 PSNR: 31.10dB\n",
            "22-08-12 14:24:49.192 : ------> Average PSNR(RGB) of (set5) scale factor: (2), kernel: (2) sigma: (0): 30.73 dB\n",
            "22-08-12 14:24:50.086 : ---1--> 101087.jpg -- x 2 --k 2 PSNR: 31.16dB\n",
            "22-08-12 14:24:50.975 : ---2--> 134035.jpg -- x 2 --k 2 PSNR: 30.65dB\n",
            "22-08-12 14:24:51.884 : ---3--> 197017.jpg -- x 2 --k 2 PSNR: 29.89dB\n",
            "22-08-12 14:24:52.766 : ---4--> 219090.jpg -- x 2 --k 2 PSNR: 29.70dB\n",
            "22-08-12 14:24:53.677 : ---5--> 223061.jpg -- x 2 --k 2 PSNR: 27.53dB\n",
            "22-08-12 14:24:54.561 : ---6--> 304074.jpg -- x 2 --k 2 PSNR: 28.21dB\n",
            "22-08-12 14:24:56.471 : ---7-->  lenna.png -- x 2 --k 2 PSNR: 34.42dB\n",
            "22-08-12 14:24:57.277 : ---8--> test_09_x1_k12_usrnet.png -- x 2 --k 2 PSNR: 30.69dB\n",
            "22-08-12 14:24:57.277 : ------> Average PSNR(RGB) of (set5) scale factor: (2), kernel: (3) sigma: (0): 30.28 dB\n",
            "22-08-12 14:24:58.215 : ---1--> 101087.jpg -- x 2 --k 3 PSNR: 30.18dB\n",
            "22-08-12 14:24:59.163 : ---2--> 134035.jpg -- x 2 --k 3 PSNR: 29.02dB\n",
            "22-08-12 14:25:00.108 : ---3--> 197017.jpg -- x 2 --k 3 PSNR: 29.11dB\n",
            "22-08-12 14:25:01.072 : ---4--> 219090.jpg -- x 2 --k 3 PSNR: 28.87dB\n",
            "22-08-12 14:25:02.005 : ---5--> 223061.jpg -- x 2 --k 3 PSNR: 26.34dB\n",
            "22-08-12 14:25:02.937 : ---6--> 304074.jpg -- x 2 --k 3 PSNR: 27.25dB\n",
            "22-08-12 14:25:04.879 : ---7-->  lenna.png -- x 2 --k 3 PSNR: 33.53dB\n",
            "22-08-12 14:25:05.722 : ---8--> test_09_x1_k12_usrnet.png -- x 2 --k 3 PSNR: 29.49dB\n",
            "22-08-12 14:25:05.722 : ------> Average PSNR(RGB) of (set5) scale factor: (2), kernel: (4) sigma: (0): 29.22 dB\n",
            "22-08-12 14:25:06.613 : ---1--> 101087.jpg -- x 2 --k 4 PSNR: 29.64dB\n",
            "22-08-12 14:25:07.499 : ---2--> 134035.jpg -- x 2 --k 4 PSNR: 28.24dB\n",
            "22-08-12 14:25:08.410 : ---3--> 197017.jpg -- x 2 --k 4 PSNR: 29.00dB\n",
            "22-08-12 14:25:09.304 : ---4--> 219090.jpg -- x 2 --k 4 PSNR: 28.59dB\n",
            "22-08-12 14:25:10.200 : ---5--> 223061.jpg -- x 2 --k 4 PSNR: 26.17dB\n",
            "22-08-12 14:25:11.093 : ---6--> 304074.jpg -- x 2 --k 4 PSNR: 26.86dB\n",
            "22-08-12 14:25:12.941 : ---7-->  lenna.png -- x 2 --k 4 PSNR: 32.97dB\n",
            "22-08-12 14:25:13.745 : ---8--> test_09_x1_k12_usrnet.png -- x 2 --k 4 PSNR: 29.04dB\n",
            "22-08-12 14:25:13.745 : ------> Average PSNR(RGB) of (set5) scale factor: (2), kernel: (5) sigma: (0): 28.81 dB\n",
            "22-08-12 14:25:14.597 : ---1--> 101087.jpg -- x 2 --k 5 PSNR: 30.00dB\n",
            "22-08-12 14:25:15.461 : ---2--> 134035.jpg -- x 2 --k 5 PSNR: 28.36dB\n",
            "22-08-12 14:25:16.349 : ---3--> 197017.jpg -- x 2 --k 5 PSNR: 29.00dB\n",
            "22-08-12 14:25:17.204 : ---4--> 219090.jpg -- x 2 --k 5 PSNR: 28.59dB\n",
            "22-08-12 14:25:18.067 : ---5--> 223061.jpg -- x 2 --k 5 PSNR: 26.28dB\n",
            "22-08-12 14:25:18.935 : ---6--> 304074.jpg -- x 2 --k 5 PSNR: 26.72dB\n",
            "22-08-12 14:25:20.841 : ---7-->  lenna.png -- x 2 --k 5 PSNR: 33.03dB\n",
            "22-08-12 14:25:21.624 : ---8--> test_09_x1_k12_usrnet.png -- x 2 --k 5 PSNR: 29.14dB\n",
            "22-08-12 14:25:21.624 : ------> Average PSNR(RGB) of (set5) scale factor: (2), kernel: (6) sigma: (0): 28.89 dB\n",
            "22-08-12 14:25:22.495 : ---1--> 101087.jpg -- x 2 --k 6 PSNR: 29.75dB\n",
            "22-08-12 14:25:23.375 : ---2--> 134035.jpg -- x 2 --k 6 PSNR: 28.23dB\n",
            "22-08-12 14:25:24.266 : ---3--> 197017.jpg -- x 2 --k 6 PSNR: 29.02dB\n",
            "22-08-12 14:25:25.133 : ---4--> 219090.jpg -- x 2 --k 6 PSNR: 28.56dB\n",
            "22-08-12 14:25:26.000 : ---5--> 223061.jpg -- x 2 --k 6 PSNR: 26.20dB\n",
            "22-08-12 14:25:26.887 : ---6--> 304074.jpg -- x 2 --k 6 PSNR: 27.34dB\n",
            "22-08-12 14:25:28.723 : ---7-->  lenna.png -- x 2 --k 6 PSNR: 33.21dB\n",
            "22-08-12 14:25:29.517 : ---8--> test_09_x1_k12_usrnet.png -- x 2 --k 6 PSNR: 29.17dB\n",
            "22-08-12 14:25:29.517 : ------> Average PSNR(RGB) of (set5) scale factor: (2), kernel: (7) sigma: (0): 28.94 dB\n",
            "22-08-12 14:25:30.473 : ---1--> 101087.jpg -- x 2 --k 7 PSNR: 29.02dB\n",
            "22-08-12 14:25:31.432 : ---2--> 134035.jpg -- x 2 --k 7 PSNR: 27.06dB\n",
            "22-08-12 14:25:32.387 : ---3--> 197017.jpg -- x 2 --k 7 PSNR: 28.25dB\n",
            "22-08-12 14:25:33.331 : ---4--> 219090.jpg -- x 2 --k 7 PSNR: 27.60dB\n",
            "22-08-12 14:25:34.279 : ---5--> 223061.jpg -- x 2 --k 7 PSNR: 25.21dB\n",
            "22-08-12 14:25:35.226 : ---6--> 304074.jpg -- x 2 --k 7 PSNR: 26.28dB\n",
            "22-08-12 14:25:37.163 : ---7-->  lenna.png -- x 2 --k 7 PSNR: 32.56dB\n",
            "22-08-12 14:25:38.035 : ---8--> test_09_x1_k12_usrnet.png -- x 2 --k 7 PSNR: 28.09dB\n",
            "22-08-12 14:25:38.035 : ------> Average PSNR(RGB) of (set5) scale factor: (2), kernel: (8) sigma: (0): 28.01 dB\n",
            "22-08-12 14:25:38.700 : ---1--> 101087.jpg -- x 2 --k 8 PSNR: 31.84dB\n",
            "22-08-12 14:25:39.382 : ---2--> 134035.jpg -- x 2 --k 8 PSNR: 30.39dB\n",
            "22-08-12 14:25:40.034 : ---3--> 197017.jpg -- x 2 --k 8 PSNR: 30.00dB\n",
            "22-08-12 14:25:40.700 : ---4--> 219090.jpg -- x 2 --k 8 PSNR: 30.40dB\n",
            "22-08-12 14:25:41.352 : ---5--> 223061.jpg -- x 2 --k 8 PSNR: 28.27dB\n",
            "22-08-12 14:25:42.011 : ---6--> 304074.jpg -- x 2 --k 8 PSNR: 27.87dB\n",
            "22-08-12 14:25:43.480 : ---7-->  lenna.png -- x 2 --k 8 PSNR: 34.72dB\n",
            "22-08-12 14:25:44.076 : ---8--> test_09_x1_k12_usrnet.png -- x 2 --k 8 PSNR: 30.92dB\n",
            "22-08-12 14:25:44.076 : ------> Average PSNR(RGB) of (set5) scale factor: (2), kernel: (9) sigma: (0): 30.55 dB\n",
            "22-08-12 14:25:44.748 : ---1--> 101087.jpg -- x 2 --k 9 PSNR: 31.38dB\n",
            "22-08-12 14:25:45.432 : ---2--> 134035.jpg -- x 2 --k 9 PSNR: 30.28dB\n",
            "22-08-12 14:25:46.091 : ---3--> 197017.jpg -- x 2 --k 9 PSNR: 29.86dB\n",
            "22-08-12 14:25:46.752 : ---4--> 219090.jpg -- x 2 --k 9 PSNR: 29.94dB\n",
            "22-08-12 14:25:47.419 : ---5--> 223061.jpg -- x 2 --k 9 PSNR: 28.09dB\n",
            "22-08-12 14:25:48.091 : ---6--> 304074.jpg -- x 2 --k 9 PSNR: 27.92dB\n",
            "22-08-12 14:25:49.578 : ---7-->  lenna.png -- x 2 --k 9 PSNR: 34.60dB\n",
            "22-08-12 14:25:50.183 : ---8--> test_09_x1_k12_usrnet.png -- x 2 --k 9 PSNR: 30.78dB\n",
            "22-08-12 14:25:50.184 : ------> Average PSNR(RGB) of (set5) scale factor: (2), kernel: (10) sigma: (0): 30.36 dB\n",
            "22-08-12 14:25:50.765 : ---1--> 101087.jpg -- x 2 --k10 PSNR: 31.65dB\n",
            "22-08-12 14:25:51.380 : ---2--> 134035.jpg -- x 2 --k10 PSNR: 30.47dB\n",
            "22-08-12 14:25:51.970 : ---3--> 197017.jpg -- x 2 --k10 PSNR: 29.82dB\n",
            "22-08-12 14:25:52.559 : ---4--> 219090.jpg -- x 2 --k10 PSNR: 29.87dB\n",
            "22-08-12 14:25:53.149 : ---5--> 223061.jpg -- x 2 --k10 PSNR: 27.97dB\n",
            "22-08-12 14:25:53.755 : ---6--> 304074.jpg -- x 2 --k10 PSNR: 27.88dB\n",
            "22-08-12 14:25:55.370 : ---7-->  lenna.png -- x 2 --k10 PSNR: 34.66dB\n",
            "22-08-12 14:25:55.918 : ---8--> test_09_x1_k12_usrnet.png -- x 2 --k10 PSNR: 30.68dB\n",
            "22-08-12 14:25:55.918 : ------> Average PSNR(RGB) of (set5) scale factor: (2), kernel: (11) sigma: (0): 30.37 dB\n",
            "22-08-12 14:25:56.544 : ---1--> 101087.jpg -- x 2 --k11 PSNR: 31.45dB\n",
            "22-08-12 14:25:57.150 : ---2--> 134035.jpg -- x 2 --k11 PSNR: 30.48dB\n",
            "22-08-12 14:25:57.752 : ---3--> 197017.jpg -- x 2 --k11 PSNR: 29.99dB\n",
            "22-08-12 14:25:58.362 : ---4--> 219090.jpg -- x 2 --k11 PSNR: 30.23dB\n",
            "22-08-12 14:25:58.974 : ---5--> 223061.jpg -- x 2 --k11 PSNR: 28.41dB\n",
            "22-08-12 14:25:59.581 : ---6--> 304074.jpg -- x 2 --k11 PSNR: 28.00dB\n",
            "22-08-12 14:26:01.082 : ---7-->  lenna.png -- x 2 --k11 PSNR: 34.67dB\n",
            "22-08-12 14:26:01.634 : ---8--> test_09_x1_k12_usrnet.png -- x 2 --k11 PSNR: 30.85dB\n",
            "22-08-12 14:26:01.634 : ------> Average PSNR(RGB) of (set5) scale factor: (2), kernel: (12) sigma: (0): 30.51 dB\n",
            "22-08-12 14:26:02.272 : ---1--> 101087.jpg -- x 3 --k 0 PSNR: 28.04dB\n",
            "22-08-12 14:26:02.882 : ---2--> 134035.jpg -- x 3 --k 0 PSNR: 25.07dB\n",
            "22-08-12 14:26:03.487 : ---3--> 197017.jpg -- x 3 --k 0 PSNR: 27.42dB\n",
            "22-08-12 14:26:04.105 : ---4--> 219090.jpg -- x 3 --k 0 PSNR: 25.93dB\n",
            "22-08-12 14:26:04.711 : ---5--> 223061.jpg -- x 3 --k 0 PSNR: 24.83dB\n",
            "22-08-12 14:26:05.333 : ---6--> 304074.jpg -- x 3 --k 0 PSNR: 25.35dB\n",
            "22-08-12 14:26:06.769 : ---7-->  lenna.png -- x 3 --k 0 PSNR: 31.93dB\n",
            "22-08-12 14:26:07.377 : ---8--> test_09_x1_k12_usrnet.png -- x 3 --k 0 PSNR: 26.94dB\n",
            "22-08-12 14:26:07.377 : ------> Average PSNR(RGB) of (set5) scale factor: (3), kernel: (1) sigma: (0): 26.94 dB\n",
            "22-08-12 14:26:08.137 : ---1--> 101087.jpg -- x 3 --k 1 PSNR: 28.60dB\n",
            "22-08-12 14:26:08.871 : ---2--> 134035.jpg -- x 3 --k 1 PSNR: 25.91dB\n",
            "22-08-12 14:26:09.599 : ---3--> 197017.jpg -- x 3 --k 1 PSNR: 28.07dB\n",
            "22-08-12 14:26:10.350 : ---4--> 219090.jpg -- x 3 --k 1 PSNR: 26.76dB\n",
            "22-08-12 14:26:11.078 : ---5--> 223061.jpg -- x 3 --k 1 PSNR: 25.04dB\n",
            "22-08-12 14:26:11.828 : ---6--> 304074.jpg -- x 3 --k 1 PSNR: 25.77dB\n",
            "22-08-12 14:26:13.429 : ---7-->  lenna.png -- x 3 --k 1 PSNR: 32.43dB\n",
            "22-08-12 14:26:14.128 : ---8--> test_09_x1_k12_usrnet.png -- x 3 --k 1 PSNR: 27.53dB\n",
            "22-08-12 14:26:14.129 : ------> Average PSNR(RGB) of (set5) scale factor: (3), kernel: (2) sigma: (0): 27.51 dB\n",
            "22-08-12 14:26:15.010 : ---1--> 101087.jpg -- x 3 --k 2 PSNR: 28.70dB\n",
            "22-08-12 14:26:15.900 : ---2--> 134035.jpg -- x 3 --k 2 PSNR: 26.20dB\n",
            "22-08-12 14:26:16.778 : ---3--> 197017.jpg -- x 3 --k 2 PSNR: 28.24dB\n",
            "22-08-12 14:26:17.643 : ---4--> 219090.jpg -- x 3 --k 2 PSNR: 26.91dB\n",
            "22-08-12 14:26:18.527 : ---5--> 223061.jpg -- x 3 --k 2 PSNR: 24.97dB\n",
            "22-08-12 14:26:19.417 : ---6--> 304074.jpg -- x 3 --k 2 PSNR: 25.86dB\n",
            "22-08-12 14:26:21.349 : ---7-->  lenna.png -- x 3 --k 2 PSNR: 32.50dB\n",
            "22-08-12 14:26:22.166 : ---8--> test_09_x1_k12_usrnet.png -- x 3 --k 2 PSNR: 27.68dB\n",
            "22-08-12 14:26:22.166 : ------> Average PSNR(RGB) of (set5) scale factor: (3), kernel: (3) sigma: (0): 27.63 dB\n",
            "22-08-12 14:26:23.102 : ---1--> 101087.jpg -- x 3 --k 3 PSNR: 28.64dB\n",
            "22-08-12 14:26:24.030 : ---2--> 134035.jpg -- x 3 --k 3 PSNR: 26.28dB\n",
            "22-08-12 14:26:24.950 : ---3--> 197017.jpg -- x 3 --k 3 PSNR: 28.22dB\n",
            "22-08-12 14:26:25.869 : ---4--> 219090.jpg -- x 3 --k 3 PSNR: 26.97dB\n",
            "22-08-12 14:26:26.807 : ---5--> 223061.jpg -- x 3 --k 3 PSNR: 24.88dB\n",
            "22-08-12 14:26:27.776 : ---6--> 304074.jpg -- x 3 --k 3 PSNR: 25.86dB\n",
            "22-08-12 14:26:29.725 : ---7-->  lenna.png -- x 3 --k 3 PSNR: 32.37dB\n",
            "22-08-12 14:26:30.595 : ---8--> test_09_x1_k12_usrnet.png -- x 3 --k 3 PSNR: 27.64dB\n",
            "22-08-12 14:26:30.595 : ------> Average PSNR(RGB) of (set5) scale factor: (3), kernel: (4) sigma: (0): 27.61 dB\n",
            "22-08-12 14:26:31.475 : ---1--> 101087.jpg -- x 3 --k 4 PSNR: 28.49dB\n",
            "22-08-12 14:26:32.360 : ---2--> 134035.jpg -- x 3 --k 4 PSNR: 26.03dB\n",
            "22-08-12 14:26:33.232 : ---3--> 197017.jpg -- x 3 --k 4 PSNR: 28.10dB\n",
            "22-08-12 14:26:34.113 : ---4--> 219090.jpg -- x 3 --k 4 PSNR: 26.86dB\n",
            "22-08-12 14:26:34.992 : ---5--> 223061.jpg -- x 3 --k 4 PSNR: 24.87dB\n",
            "22-08-12 14:26:35.925 : ---6--> 304074.jpg -- x 3 --k 4 PSNR: 25.73dB\n",
            "22-08-12 14:26:37.871 : ---7-->  lenna.png -- x 3 --k 4 PSNR: 32.15dB\n",
            "22-08-12 14:26:38.692 : ---8--> test_09_x1_k12_usrnet.png -- x 3 --k 4 PSNR: 27.48dB\n",
            "22-08-12 14:26:38.693 : ------> Average PSNR(RGB) of (set5) scale factor: (3), kernel: (5) sigma: (0): 27.46 dB\n",
            "22-08-12 14:26:39.551 : ---1--> 101087.jpg -- x 3 --k 5 PSNR: 28.63dB\n",
            "22-08-12 14:26:40.400 : ---2--> 134035.jpg -- x 3 --k 5 PSNR: 25.79dB\n",
            "22-08-12 14:26:41.256 : ---3--> 197017.jpg -- x 3 --k 5 PSNR: 28.19dB\n",
            "22-08-12 14:26:42.106 : ---4--> 219090.jpg -- x 3 --k 5 PSNR: 27.03dB\n",
            "22-08-12 14:26:42.973 : ---5--> 223061.jpg -- x 3 --k 5 PSNR: 24.75dB\n",
            "22-08-12 14:26:43.877 : ---6--> 304074.jpg -- x 3 --k 5 PSNR: 25.58dB\n",
            "22-08-12 14:26:45.820 : ---7-->  lenna.png -- x 3 --k 5 PSNR: 32.08dB\n",
            "22-08-12 14:26:46.610 : ---8--> test_09_x1_k12_usrnet.png -- x 3 --k 5 PSNR: 27.33dB\n",
            "22-08-12 14:26:46.610 : ------> Average PSNR(RGB) of (set5) scale factor: (3), kernel: (6) sigma: (0): 27.42 dB\n",
            "22-08-12 14:26:47.469 : ---1--> 101087.jpg -- x 3 --k 6 PSNR: 28.43dB\n",
            "22-08-12 14:26:48.348 : ---2--> 134035.jpg -- x 3 --k 6 PSNR: 25.82dB\n",
            "22-08-12 14:26:49.607 : ---3--> 197017.jpg -- x 3 --k 6 PSNR: 28.21dB\n",
            "22-08-12 14:26:50.865 : ---4--> 219090.jpg -- x 3 --k 6 PSNR: 26.80dB\n",
            "22-08-12 14:26:52.113 : ---5--> 223061.jpg -- x 3 --k 6 PSNR: 24.80dB\n",
            "22-08-12 14:26:52.984 : ---6--> 304074.jpg -- x 3 --k 6 PSNR: 25.86dB\n",
            "22-08-12 14:26:54.825 : ---7-->  lenna.png -- x 3 --k 6 PSNR: 32.03dB\n",
            "22-08-12 14:26:55.612 : ---8--> test_09_x1_k12_usrnet.png -- x 3 --k 6 PSNR: 27.35dB\n",
            "22-08-12 14:26:55.613 : ------> Average PSNR(RGB) of (set5) scale factor: (3), kernel: (7) sigma: (0): 27.41 dB\n",
            "22-08-12 14:26:56.558 : ---1--> 101087.jpg -- x 3 --k 7 PSNR: 28.31dB\n",
            "22-08-12 14:26:57.495 : ---2--> 134035.jpg -- x 3 --k 7 PSNR: 25.89dB\n",
            "22-08-12 14:26:58.459 : ---3--> 197017.jpg -- x 3 --k 7 PSNR: 28.01dB\n",
            "22-08-12 14:26:59.394 : ---4--> 219090.jpg -- x 3 --k 7 PSNR: 26.78dB\n",
            "22-08-12 14:27:00.368 : ---5--> 223061.jpg -- x 3 --k 7 PSNR: 24.59dB\n",
            "22-08-12 14:27:01.331 : ---6--> 304074.jpg -- x 3 --k 7 PSNR: 25.68dB\n",
            "22-08-12 14:27:03.349 : ---7-->  lenna.png -- x 3 --k 7 PSNR: 31.94dB\n",
            "22-08-12 14:27:04.217 : ---8--> test_09_x1_k12_usrnet.png -- x 3 --k 7 PSNR: 27.28dB\n",
            "22-08-12 14:27:04.217 : ------> Average PSNR(RGB) of (set5) scale factor: (3), kernel: (8) sigma: (0): 27.31 dB\n",
            "22-08-12 14:27:04.880 : ---1--> 101087.jpg -- x 3 --k 8 PSNR: 28.55dB\n",
            "22-08-12 14:27:05.530 : ---2--> 134035.jpg -- x 3 --k 8 PSNR: 25.66dB\n",
            "22-08-12 14:27:06.177 : ---3--> 197017.jpg -- x 3 --k 8 PSNR: 28.05dB\n",
            "22-08-12 14:27:06.849 : ---4--> 219090.jpg -- x 3 --k 8 PSNR: 27.02dB\n",
            "22-08-12 14:27:07.498 : ---5--> 223061.jpg -- x 3 --k 8 PSNR: 25.11dB\n",
            "22-08-12 14:27:08.165 : ---6--> 304074.jpg -- x 3 --k 8 PSNR: 25.41dB\n",
            "22-08-12 14:27:09.622 : ---7-->  lenna.png -- x 3 --k 8 PSNR: 32.08dB\n",
            "22-08-12 14:27:10.232 : ---8--> test_09_x1_k12_usrnet.png -- x 3 --k 8 PSNR: 27.28dB\n",
            "22-08-12 14:27:10.232 : ------> Average PSNR(RGB) of (set5) scale factor: (3), kernel: (9) sigma: (0): 27.39 dB\n",
            "22-08-12 14:27:10.898 : ---1--> 101087.jpg -- x 3 --k 9 PSNR: 28.33dB\n",
            "22-08-12 14:27:11.557 : ---2--> 134035.jpg -- x 3 --k 9 PSNR: 25.47dB\n",
            "22-08-12 14:27:12.212 : ---3--> 197017.jpg -- x 3 --k 9 PSNR: 27.72dB\n",
            "22-08-12 14:27:12.875 : ---4--> 219090.jpg -- x 3 --k 9 PSNR: 26.38dB\n",
            "22-08-12 14:27:13.534 : ---5--> 223061.jpg -- x 3 --k 9 PSNR: 24.84dB\n",
            "22-08-12 14:27:14.207 : ---6--> 304074.jpg -- x 3 --k 9 PSNR: 25.38dB\n",
            "22-08-12 14:27:15.665 : ---7-->  lenna.png -- x 3 --k 9 PSNR: 31.91dB\n",
            "22-08-12 14:27:16.284 : ---8--> test_09_x1_k12_usrnet.png -- x 3 --k 9 PSNR: 27.27dB\n",
            "22-08-12 14:27:16.284 : ------> Average PSNR(RGB) of (set5) scale factor: (3), kernel: (10) sigma: (0): 27.16 dB\n",
            "22-08-12 14:27:16.887 : ---1--> 101087.jpg -- x 3 --k10 PSNR: 28.54dB\n",
            "22-08-12 14:27:17.477 : ---2--> 134035.jpg -- x 3 --k10 PSNR: 25.39dB\n",
            "22-08-12 14:27:18.087 : ---3--> 197017.jpg -- x 3 --k10 PSNR: 27.81dB\n",
            "22-08-12 14:27:18.668 : ---4--> 219090.jpg -- x 3 --k10 PSNR: 26.74dB\n",
            "22-08-12 14:27:19.253 : ---5--> 223061.jpg -- x 3 --k10 PSNR: 24.74dB\n",
            "22-08-12 14:27:19.865 : ---6--> 304074.jpg -- x 3 --k10 PSNR: 25.33dB\n",
            "22-08-12 14:27:21.311 : ---7-->  lenna.png -- x 3 --k10 PSNR: 32.10dB\n",
            "22-08-12 14:27:21.852 : ---8--> test_09_x1_k12_usrnet.png -- x 3 --k10 PSNR: 27.24dB\n",
            "22-08-12 14:27:21.853 : ------> Average PSNR(RGB) of (set5) scale factor: (3), kernel: (11) sigma: (0): 27.24 dB\n",
            "22-08-12 14:27:22.475 : ---1--> 101087.jpg -- x 3 --k11 PSNR: 28.29dB\n",
            "22-08-12 14:27:23.076 : ---2--> 134035.jpg -- x 3 --k11 PSNR: 25.39dB\n",
            "22-08-12 14:27:23.691 : ---3--> 197017.jpg -- x 3 --k11 PSNR: 27.94dB\n",
            "22-08-12 14:27:24.287 : ---4--> 219090.jpg -- x 3 --k11 PSNR: 26.78dB\n",
            "22-08-12 14:27:24.885 : ---5--> 223061.jpg -- x 3 --k11 PSNR: 24.92dB\n",
            "22-08-12 14:27:25.498 : ---6--> 304074.jpg -- x 3 --k11 PSNR: 25.21dB\n",
            "22-08-12 14:27:27.040 : ---7-->  lenna.png -- x 3 --k11 PSNR: 31.75dB\n",
            "22-08-12 14:27:27.601 : ---8--> test_09_x1_k12_usrnet.png -- x 3 --k11 PSNR: 26.96dB\n",
            "22-08-12 14:27:27.601 : ------> Average PSNR(RGB) of (set5) scale factor: (3), kernel: (12) sigma: (0): 27.16 dB\n",
            "22-08-12 14:27:28.227 : ---1--> 101087.jpg -- x 4 --k 0 PSNR: 26.41dB\n",
            "22-08-12 14:27:28.876 : ---2--> 134035.jpg -- x 4 --k 0 PSNR: 22.23dB\n",
            "22-08-12 14:27:29.504 : ---3--> 197017.jpg -- x 4 --k 0 PSNR: 25.95dB\n",
            "22-08-12 14:27:30.129 : ---4--> 219090.jpg -- x 4 --k 0 PSNR: 24.07dB\n",
            "22-08-12 14:27:30.757 : ---5--> 223061.jpg -- x 4 --k 0 PSNR: 23.16dB\n",
            "22-08-12 14:27:31.388 : ---6--> 304074.jpg -- x 4 --k 0 PSNR: 23.89dB\n",
            "22-08-12 14:27:33.291 : ---7-->  lenna.png -- x 4 --k 0 PSNR: 29.78dB\n",
            "22-08-12 14:27:33.869 : ---8--> test_09_x1_k12_usrnet.png -- x 4 --k 0 PSNR: 24.87dB\n",
            "22-08-12 14:27:33.869 : ------> Average PSNR(RGB) of (set5) scale factor: (4), kernel: (1) sigma: (0): 25.04 dB\n",
            "22-08-12 14:27:34.618 : ---1--> 101087.jpg -- x 4 --k 1 PSNR: 26.98dB\n",
            "22-08-12 14:27:35.381 : ---2--> 134035.jpg -- x 4 --k 1 PSNR: 23.00dB\n",
            "22-08-12 14:27:36.130 : ---3--> 197017.jpg -- x 4 --k 1 PSNR: 26.60dB\n",
            "22-08-12 14:27:36.896 : ---4--> 219090.jpg -- x 4 --k 1 PSNR: 24.87dB\n",
            "22-08-12 14:27:37.643 : ---5--> 223061.jpg -- x 4 --k 1 PSNR: 23.56dB\n",
            "22-08-12 14:27:38.403 : ---6--> 304074.jpg -- x 4 --k 1 PSNR: 24.37dB\n",
            "22-08-12 14:27:39.984 : ---7-->  lenna.png -- x 4 --k 1 PSNR: 30.44dB\n",
            "22-08-12 14:27:40.671 : ---8--> test_09_x1_k12_usrnet.png -- x 4 --k 1 PSNR: 25.52dB\n",
            "22-08-12 14:27:40.671 : ------> Average PSNR(RGB) of (set5) scale factor: (4), kernel: (2) sigma: (0): 25.67 dB\n",
            "22-08-12 14:27:41.595 : ---1--> 101087.jpg -- x 4 --k 2 PSNR: 27.10dB\n",
            "22-08-12 14:27:42.486 : ---2--> 134035.jpg -- x 4 --k 2 PSNR: 23.27dB\n",
            "22-08-12 14:27:43.385 : ---3--> 197017.jpg -- x 4 --k 2 PSNR: 26.83dB\n",
            "22-08-12 14:27:44.292 : ---4--> 219090.jpg -- x 4 --k 2 PSNR: 25.12dB\n",
            "22-08-12 14:27:45.203 : ---5--> 223061.jpg -- x 4 --k 2 PSNR: 23.59dB\n",
            "22-08-12 14:27:46.116 : ---6--> 304074.jpg -- x 4 --k 2 PSNR: 24.51dB\n",
            "22-08-12 14:27:48.070 : ---7-->  lenna.png -- x 4 --k 2 PSNR: 30.65dB\n",
            "22-08-12 14:27:48.902 : ---8--> test_09_x1_k12_usrnet.png -- x 4 --k 2 PSNR: 25.72dB\n",
            "22-08-12 14:27:48.903 : ------> Average PSNR(RGB) of (set5) scale factor: (4), kernel: (3) sigma: (0): 25.85 dB\n",
            "22-08-12 14:27:49.845 : ---1--> 101087.jpg -- x 4 --k 3 PSNR: 27.18dB\n",
            "22-08-12 14:27:50.805 : ---2--> 134035.jpg -- x 4 --k 3 PSNR: 23.39dB\n",
            "22-08-12 14:27:51.747 : ---3--> 197017.jpg -- x 4 --k 3 PSNR: 26.95dB\n",
            "22-08-12 14:27:52.699 : ---4--> 219090.jpg -- x 4 --k 3 PSNR: 25.27dB\n",
            "22-08-12 14:27:53.659 : ---5--> 223061.jpg -- x 4 --k 3 PSNR: 23.57dB\n",
            "22-08-12 14:27:54.616 : ---6--> 304074.jpg -- x 4 --k 3 PSNR: 24.59dB\n",
            "22-08-12 14:27:56.779 : ---7-->  lenna.png -- x 4 --k 3 PSNR: 30.72dB\n",
            "22-08-12 14:27:57.636 : ---8--> test_09_x1_k12_usrnet.png -- x 4 --k 3 PSNR: 25.80dB\n",
            "22-08-12 14:27:57.636 : ------> Average PSNR(RGB) of (set5) scale factor: (4), kernel: (4) sigma: (0): 25.93 dB\n",
            "22-08-12 14:27:58.532 : ---1--> 101087.jpg -- x 4 --k 4 PSNR: 27.15dB\n",
            "22-08-12 14:27:59.459 : ---2--> 134035.jpg -- x 4 --k 4 PSNR: 23.33dB\n",
            "22-08-12 14:28:00.361 : ---3--> 197017.jpg -- x 4 --k 4 PSNR: 26.87dB\n",
            "22-08-12 14:28:01.266 : ---4--> 219090.jpg -- x 4 --k 4 PSNR: 25.14dB\n",
            "22-08-12 14:28:02.170 : ---5--> 223061.jpg -- x 4 --k 4 PSNR: 23.65dB\n",
            "22-08-12 14:28:03.087 : ---6--> 304074.jpg -- x 4 --k 4 PSNR: 24.50dB\n",
            "22-08-12 14:28:05.036 : ---7-->  lenna.png -- x 4 --k 4 PSNR: 30.68dB\n",
            "22-08-12 14:28:05.858 : ---8--> test_09_x1_k12_usrnet.png -- x 4 --k 4 PSNR: 25.74dB\n",
            "22-08-12 14:28:05.859 : ------> Average PSNR(RGB) of (set5) scale factor: (4), kernel: (5) sigma: (0): 25.88 dB\n",
            "22-08-12 14:28:06.735 : ---1--> 101087.jpg -- x 4 --k 5 PSNR: 27.18dB\n",
            "22-08-12 14:28:07.610 : ---2--> 134035.jpg -- x 4 --k 5 PSNR: 23.15dB\n",
            "22-08-12 14:28:08.486 : ---3--> 197017.jpg -- x 4 --k 5 PSNR: 26.93dB\n",
            "22-08-12 14:28:09.361 : ---4--> 219090.jpg -- x 4 --k 5 PSNR: 25.26dB\n",
            "22-08-12 14:28:10.234 : ---5--> 223061.jpg -- x 4 --k 5 PSNR: 23.48dB\n",
            "22-08-12 14:28:11.114 : ---6--> 304074.jpg -- x 4 --k 5 PSNR: 24.38dB\n",
            "22-08-12 14:28:12.953 : ---7-->  lenna.png -- x 4 --k 5 PSNR: 30.52dB\n",
            "22-08-12 14:28:13.757 : ---8--> test_09_x1_k12_usrnet.png -- x 4 --k 5 PSNR: 25.57dB\n",
            "22-08-12 14:28:13.758 : ------> Average PSNR(RGB) of (set5) scale factor: (4), kernel: (6) sigma: (0): 25.81 dB\n",
            "22-08-12 14:28:14.640 : ---1--> 101087.jpg -- x 4 --k 6 PSNR: 27.16dB\n",
            "22-08-12 14:28:15.523 : ---2--> 134035.jpg -- x 4 --k 6 PSNR: 23.24dB\n",
            "22-08-12 14:28:16.390 : ---3--> 197017.jpg -- x 4 --k 6 PSNR: 26.85dB\n",
            "22-08-12 14:28:17.266 : ---4--> 219090.jpg -- x 4 --k 6 PSNR: 25.32dB\n",
            "22-08-12 14:28:18.147 : ---5--> 223061.jpg -- x 4 --k 6 PSNR: 23.50dB\n",
            "22-08-12 14:28:19.049 : ---6--> 304074.jpg -- x 4 --k 6 PSNR: 24.54dB\n",
            "22-08-12 14:28:20.951 : ---7-->  lenna.png -- x 4 --k 6 PSNR: 30.41dB\n",
            "22-08-12 14:28:21.760 : ---8--> test_09_x1_k12_usrnet.png -- x 4 --k 6 PSNR: 25.62dB\n",
            "22-08-12 14:28:21.760 : ------> Average PSNR(RGB) of (set5) scale factor: (4), kernel: (7) sigma: (0): 25.83 dB\n",
            "22-08-12 14:28:22.719 : ---1--> 101087.jpg -- x 4 --k 7 PSNR: 27.20dB\n",
            "22-08-12 14:28:23.695 : ---2--> 134035.jpg -- x 4 --k 7 PSNR: 23.44dB\n",
            "22-08-12 14:28:24.652 : ---3--> 197017.jpg -- x 4 --k 7 PSNR: 26.97dB\n",
            "22-08-12 14:28:25.621 : ---4--> 219090.jpg -- x 4 --k 7 PSNR: 25.36dB\n",
            "22-08-12 14:28:26.576 : ---5--> 223061.jpg -- x 4 --k 7 PSNR: 23.53dB\n",
            "22-08-12 14:28:27.565 : ---6--> 304074.jpg -- x 4 --k 7 PSNR: 24.63dB\n",
            "22-08-12 14:28:29.583 : ---7-->  lenna.png -- x 4 --k 7 PSNR: 30.68dB\n",
            "22-08-12 14:28:30.456 : ---8--> test_09_x1_k12_usrnet.png -- x 4 --k 7 PSNR: 25.87dB\n",
            "22-08-12 14:28:30.456 : ------> Average PSNR(RGB) of (set5) scale factor: (4), kernel: (8) sigma: (0): 25.96 dB\n",
            "22-08-12 14:28:31.119 : ---1--> 101087.jpg -- x 4 --k 8 PSNR: 27.05dB\n",
            "22-08-12 14:28:31.799 : ---2--> 134035.jpg -- x 4 --k 8 PSNR: 22.85dB\n",
            "22-08-12 14:28:32.481 : ---3--> 197017.jpg -- x 4 --k 8 PSNR: 26.64dB\n",
            "22-08-12 14:28:33.152 : ---4--> 219090.jpg -- x 4 --k 8 PSNR: 25.05dB\n",
            "22-08-12 14:28:33.844 : ---5--> 223061.jpg -- x 4 --k 8 PSNR: 23.44dB\n",
            "22-08-12 14:28:34.517 : ---6--> 304074.jpg -- x 4 --k 8 PSNR: 24.01dB\n",
            "22-08-12 14:28:36.013 : ---7-->  lenna.png -- x 4 --k 8 PSNR: 30.10dB\n",
            "22-08-12 14:28:36.620 : ---8--> test_09_x1_k12_usrnet.png -- x 4 --k 8 PSNR: 25.26dB\n",
            "22-08-12 14:28:36.620 : ------> Average PSNR(RGB) of (set5) scale factor: (4), kernel: (9) sigma: (0): 25.55 dB\n",
            "22-08-12 14:28:37.293 : ---1--> 101087.jpg -- x 4 --k 9 PSNR: 26.51dB\n",
            "22-08-12 14:28:37.970 : ---2--> 134035.jpg -- x 4 --k 9 PSNR: 22.38dB\n",
            "22-08-12 14:28:38.644 : ---3--> 197017.jpg -- x 4 --k 9 PSNR: 26.22dB\n",
            "22-08-12 14:28:39.315 : ---4--> 219090.jpg -- x 4 --k 9 PSNR: 24.63dB\n",
            "22-08-12 14:28:40.010 : ---5--> 223061.jpg -- x 4 --k 9 PSNR: 23.22dB\n",
            "22-08-12 14:28:40.685 : ---6--> 304074.jpg -- x 4 --k 9 PSNR: 23.83dB\n",
            "22-08-12 14:28:42.234 : ---7-->  lenna.png -- x 4 --k 9 PSNR: 29.77dB\n",
            "22-08-12 14:28:42.860 : ---8--> test_09_x1_k12_usrnet.png -- x 4 --k 9 PSNR: 25.07dB\n",
            "22-08-12 14:28:42.860 : ------> Average PSNR(RGB) of (set5) scale factor: (4), kernel: (10) sigma: (0): 25.20 dB\n",
            "22-08-12 14:28:43.462 : ---1--> 101087.jpg -- x 4 --k10 PSNR: 27.07dB\n",
            "22-08-12 14:28:44.061 : ---2--> 134035.jpg -- x 4 --k10 PSNR: 22.69dB\n",
            "22-08-12 14:28:44.667 : ---3--> 197017.jpg -- x 4 --k10 PSNR: 26.45dB\n",
            "22-08-12 14:28:45.290 : ---4--> 219090.jpg -- x 4 --k10 PSNR: 24.88dB\n",
            "22-08-12 14:28:45.894 : ---5--> 223061.jpg -- x 4 --k10 PSNR: 23.28dB\n",
            "22-08-12 14:28:46.512 : ---6--> 304074.jpg -- x 4 --k10 PSNR: 23.98dB\n",
            "22-08-12 14:28:47.908 : ---7-->  lenna.png -- x 4 --k10 PSNR: 30.01dB\n",
            "22-08-12 14:28:48.462 : ---8--> test_09_x1_k12_usrnet.png -- x 4 --k10 PSNR: 25.25dB\n",
            "22-08-12 14:28:48.462 : ------> Average PSNR(RGB) of (set5) scale factor: (4), kernel: (11) sigma: (0): 25.45 dB\n",
            "22-08-12 14:28:49.074 : ---1--> 101087.jpg -- x 4 --k11 PSNR: 27.00dB\n",
            "22-08-12 14:28:49.691 : ---2--> 134035.jpg -- x 4 --k11 PSNR: 22.42dB\n",
            "22-08-12 14:28:50.300 : ---3--> 197017.jpg -- x 4 --k11 PSNR: 26.41dB\n",
            "22-08-12 14:28:50.936 : ---4--> 219090.jpg -- x 4 --k11 PSNR: 24.92dB\n",
            "22-08-12 14:28:51.547 : ---5--> 223061.jpg -- x 4 --k11 PSNR: 23.16dB\n",
            "22-08-12 14:28:52.166 : ---6--> 304074.jpg -- x 4 --k11 PSNR: 23.97dB\n",
            "22-08-12 14:28:53.561 : ---7-->  lenna.png -- x 4 --k11 PSNR: 30.02dB\n",
            "22-08-12 14:28:54.119 : ---8--> test_09_x1_k12_usrnet.png -- x 4 --k11 PSNR: 25.01dB\n",
            "22-08-12 14:28:54.119 : ------> Average PSNR(RGB) of (set5) scale factor: (4), kernel: (12) sigma: (0): 25.36 dB\n",
            "22-08-12 14:28:54.120 : [30.41464999927265, 30.73348179960825, 30.283421402056977, 29.22404728172944, 28.812602200905125, 28.89030559648444, 28.93541546389399, 28.009588792487396, 30.551388492919564, 30.355393066169007, 30.37465569125867, 30.509914827691876, 26.9388648873103, 27.513235057943078, 27.63322705444895, 27.606886974447495, 27.46286309775202, 27.42158086049293, 27.41162573915494, 27.310280996271125, 27.39402107319217, 27.161990884243803, 27.23622923996436, 27.156898758220954, 25.043220442319875, 25.66639847827458, 25.850656718017383, 25.932124510835486, 25.882089399466405, 25.807759599576045, 25.829339776146554, 25.959634985192285, 25.551703742084822, 25.20383867697691, 25.451936257630166, 25.364000847249056]\n"
          ]
        }
      ],
      "source": [
        "!python main_test_table1.py"
      ]
    }
  ],
  "metadata": {
    "accelerator": "GPU",
    "colab": {
      "provenance": [],
      "include_colab_link": true
    },
    "kernelspec": {
      "display_name": "Python 3",
      "name": "python3"
    },
    "language_info": {
      "name": "python"
    }
  },
  "nbformat": 4,
  "nbformat_minor": 0
}